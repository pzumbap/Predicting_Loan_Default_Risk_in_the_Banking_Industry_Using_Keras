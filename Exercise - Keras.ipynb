{
 "cells": [
  {
   "attachments": {},
   "cell_type": "markdown",
   "metadata": {},
   "source": [
    "# Predicting Loan Default Risk in the Banking Industry: An Exercise in Binary Classification, Feature Engineering and Neural Networks using Keras\n",
    "## Designing Shallow and Deep Neural Networks for Risk Assessment in Home Loans\n",
    "### Pablo X Zumba"
   ]
  },
  {
   "attachments": {},
   "cell_type": "markdown",
   "metadata": {},
   "source": [
    "The data set for this exercise is from the banking industry. It contains data about the home loans of 2,500 bank clients. Each row represents a single loan. The columns include the characteristics of the client who used a loan. This is a binary classification task: predict whether a loan will be bad or not (1=Yes, 0=No). This is an important task for banks to prevent bad loans from being issued."
   ]
  },
  {
   "attachments": {},
   "cell_type": "markdown",
   "metadata": {},
   "source": [
    "## Description of Variables\n",
    "\n",
    "The description of variables are provided in \"Loan - Data Dictionary.docx\""
   ]
  },
  {
   "attachments": {},
   "cell_type": "markdown",
   "metadata": {},
   "source": [
    "## Goal\n",
    "\n",
    "Use the **loan.csv** data set and build a model to predict **BAD**. \n",
    "\n",
    "Since you have a relatively small data set, I recommend using cross-validation to evaluate your accuracy."
   ]
  },
  {
   "attachments": {},
   "cell_type": "markdown",
   "metadata": {},
   "source": [
    "# Read and Prepare the Data"
   ]
  },
  {
   "cell_type": "code",
   "execution_count": 2,
   "metadata": {},
   "outputs": [],
   "source": [
    "# Common imports\n",
    "\n",
    "import pandas as pd\n",
    "import numpy as np\n",
    "\n",
    "np.random.seed(42)"
   ]
  },
  {
   "attachments": {},
   "cell_type": "markdown",
   "metadata": {},
   "source": [
    "# Get the data"
   ]
  },
  {
   "cell_type": "code",
   "execution_count": 3,
   "metadata": {},
   "outputs": [
    {
     "data": {
      "text/html": [
       "<div>\n",
       "<style scoped>\n",
       "    .dataframe tbody tr th:only-of-type {\n",
       "        vertical-align: middle;\n",
       "    }\n",
       "\n",
       "    .dataframe tbody tr th {\n",
       "        vertical-align: top;\n",
       "    }\n",
       "\n",
       "    .dataframe thead th {\n",
       "        text-align: right;\n",
       "    }\n",
       "</style>\n",
       "<table border=\"1\" class=\"dataframe\">\n",
       "  <thead>\n",
       "    <tr style=\"text-align: right;\">\n",
       "      <th></th>\n",
       "      <th>BAD</th>\n",
       "      <th>LOAN</th>\n",
       "      <th>MORTDUE</th>\n",
       "      <th>VALUE</th>\n",
       "      <th>REASON</th>\n",
       "      <th>JOB</th>\n",
       "      <th>YOJ</th>\n",
       "      <th>DEROG</th>\n",
       "      <th>DELINQ</th>\n",
       "      <th>CLAGE</th>\n",
       "      <th>NINQ</th>\n",
       "      <th>CLNO</th>\n",
       "      <th>DEBTINC</th>\n",
       "    </tr>\n",
       "  </thead>\n",
       "  <tbody>\n",
       "    <tr>\n",
       "      <th>0</th>\n",
       "      <td>0</td>\n",
       "      <td>25900</td>\n",
       "      <td>61064.0</td>\n",
       "      <td>94714.0</td>\n",
       "      <td>DebtCon</td>\n",
       "      <td>Office</td>\n",
       "      <td>2.0</td>\n",
       "      <td>0.0</td>\n",
       "      <td>0.0</td>\n",
       "      <td>98.809375</td>\n",
       "      <td>0.0</td>\n",
       "      <td>23.0</td>\n",
       "      <td>34.565944</td>\n",
       "    </tr>\n",
       "    <tr>\n",
       "      <th>1</th>\n",
       "      <td>0</td>\n",
       "      <td>26100</td>\n",
       "      <td>113266.0</td>\n",
       "      <td>182082.0</td>\n",
       "      <td>DebtCon</td>\n",
       "      <td>Sales</td>\n",
       "      <td>18.0</td>\n",
       "      <td>0.0</td>\n",
       "      <td>0.0</td>\n",
       "      <td>304.852469</td>\n",
       "      <td>1.0</td>\n",
       "      <td>31.0</td>\n",
       "      <td>33.193949</td>\n",
       "    </tr>\n",
       "    <tr>\n",
       "      <th>2</th>\n",
       "      <td>1</td>\n",
       "      <td>50000</td>\n",
       "      <td>220528.0</td>\n",
       "      <td>300900.0</td>\n",
       "      <td>HomeImp</td>\n",
       "      <td>Self</td>\n",
       "      <td>5.0</td>\n",
       "      <td>0.0</td>\n",
       "      <td>0.0</td>\n",
       "      <td>0.000000</td>\n",
       "      <td>0.0</td>\n",
       "      <td>2.0</td>\n",
       "      <td>NaN</td>\n",
       "    </tr>\n",
       "    <tr>\n",
       "      <th>3</th>\n",
       "      <td>1</td>\n",
       "      <td>22400</td>\n",
       "      <td>51470.0</td>\n",
       "      <td>68139.0</td>\n",
       "      <td>DebtCon</td>\n",
       "      <td>Mgr</td>\n",
       "      <td>9.0</td>\n",
       "      <td>0.0</td>\n",
       "      <td>0.0</td>\n",
       "      <td>31.168696</td>\n",
       "      <td>2.0</td>\n",
       "      <td>8.0</td>\n",
       "      <td>37.952180</td>\n",
       "    </tr>\n",
       "    <tr>\n",
       "      <th>4</th>\n",
       "      <td>0</td>\n",
       "      <td>20900</td>\n",
       "      <td>62615.0</td>\n",
       "      <td>87904.0</td>\n",
       "      <td>DebtCon</td>\n",
       "      <td>Office</td>\n",
       "      <td>5.0</td>\n",
       "      <td>NaN</td>\n",
       "      <td>NaN</td>\n",
       "      <td>177.864849</td>\n",
       "      <td>NaN</td>\n",
       "      <td>15.0</td>\n",
       "      <td>36.831076</td>\n",
       "    </tr>\n",
       "  </tbody>\n",
       "</table>\n",
       "</div>"
      ],
      "text/plain": [
       "   BAD   LOAN   MORTDUE     VALUE   REASON     JOB   YOJ  DEROG  DELINQ  \\\n",
       "0    0  25900   61064.0   94714.0  DebtCon  Office   2.0    0.0     0.0   \n",
       "1    0  26100  113266.0  182082.0  DebtCon   Sales  18.0    0.0     0.0   \n",
       "2    1  50000  220528.0  300900.0  HomeImp    Self   5.0    0.0     0.0   \n",
       "3    1  22400   51470.0   68139.0  DebtCon     Mgr   9.0    0.0     0.0   \n",
       "4    0  20900   62615.0   87904.0  DebtCon  Office   5.0    NaN     NaN   \n",
       "\n",
       "        CLAGE  NINQ  CLNO    DEBTINC  \n",
       "0   98.809375   0.0  23.0  34.565944  \n",
       "1  304.852469   1.0  31.0  33.193949  \n",
       "2    0.000000   0.0   2.0        NaN  \n",
       "3   31.168696   2.0   8.0  37.952180  \n",
       "4  177.864849   NaN  15.0  36.831076  "
      ]
     },
     "execution_count": 3,
     "metadata": {},
     "output_type": "execute_result"
    }
   ],
   "source": [
    "#We will predict the \"price\" value in the data set:\n",
    "\n",
    "loan = pd.read_csv(\"loan.csv\")\n",
    "loan.head()"
   ]
  },
  {
   "attachments": {},
   "cell_type": "markdown",
   "metadata": {},
   "source": [
    "# Split data (train/test)"
   ]
  },
  {
   "cell_type": "code",
   "execution_count": 4,
   "metadata": {},
   "outputs": [],
   "source": [
    "from sklearn.model_selection import train_test_split\n",
    "\n",
    "train, test = train_test_split(loan, test_size=0.3)"
   ]
  },
  {
   "attachments": {},
   "cell_type": "markdown",
   "metadata": {},
   "source": [
    "# Data Prep\n",
    "\n",
    "Perform your data prep here. You can use pipelines like we do in the tutorials. Otherwise, feel free to use your own data prep steps. Eventually, you should do the following at a minimum:<br>\n",
    "- Separate inputs from target<br>\n",
    "- Impute/remove missing values<br>\n",
    "- Standardize the continuous variables<br>\n",
    "- One-hot encode categorical variables<br>"
   ]
  },
  {
   "cell_type": "code",
   "execution_count": 5,
   "metadata": {},
   "outputs": [],
   "source": [
    "from sklearn.compose import ColumnTransformer\n",
    "from sklearn.pipeline import Pipeline\n",
    "from sklearn.impute import SimpleImputer\n",
    "from sklearn.preprocessing import StandardScaler\n",
    "from sklearn.preprocessing import OneHotEncoder"
   ]
  },
  {
   "attachments": {},
   "cell_type": "markdown",
   "metadata": {},
   "source": [
    "## Separate the target variable "
   ]
  },
  {
   "cell_type": "code",
   "execution_count": 6,
   "metadata": {},
   "outputs": [],
   "source": [
    "train_target = train['BAD']\n",
    "test_target = test['BAD']\n",
    "\n",
    "train_inputs = train.drop(['BAD'], axis=1)\n",
    "test_inputs = test.drop(['BAD'], axis=1)"
   ]
  },
  {
   "attachments": {},
   "cell_type": "markdown",
   "metadata": {},
   "source": [
    "## Feature Engineering: Derive a new column\n",
    "\n",
    "Examples:\n",
    "- Ratio of delinquent to total number of credit lines\n",
    "- Ratio of loan to value of current property\n",
    "- Convert yr_renovated to a binary variable (i.e., renovated or not)\n",
    "- (etc.)"
   ]
  },
  {
   "cell_type": "code",
   "execution_count": 7,
   "metadata": {},
   "outputs": [
    {
     "data": {
      "text/plain": [
       "16.0    88\n",
       "19.0    82\n",
       "23.0    81\n",
       "24.0    69\n",
       "13.0    69\n",
       "        ..\n",
       "44.0     1\n",
       "53.0     1\n",
       "65.0     1\n",
       "52.0     1\n",
       "57.0     1\n",
       "Name: CLNO, Length: 61, dtype: int64"
      ]
     },
     "execution_count": 7,
     "metadata": {},
     "output_type": "execute_result"
    }
   ],
   "source": [
    "train_inputs['CLNO'].value_counts()"
   ]
  },
  {
   "cell_type": "code",
   "execution_count": 8,
   "metadata": {},
   "outputs": [
    {
     "data": {
      "text/plain": [
       "<AxesSubplot: >"
      ]
     },
     "execution_count": 8,
     "metadata": {},
     "output_type": "execute_result"
    },
    {
     "data": {
      "image/png": "[encoded data removed]",
      "text/plain": [
       "<Figure size 640x480 with 1 Axes>"
      ]
     },
     "metadata": {},
     "output_type": "display_data"
    }
   ],
   "source": [
    "train_inputs['CLNO'].hist()"
   ]
  },
  {
   "cell_type": "code",
   "execution_count": 9,
   "metadata": {},
   "outputs": [],
   "source": [
    "# Import power transformer from sklearn. It will help us create a \"normal distribution\"\n",
    "from sklearn.preprocessing import PowerTransformer\n",
    "\n",
    "PT = PowerTransformer(method = 'yeo-johnson', standardize=True)"
   ]
  },
  {
   "cell_type": "code",
   "execution_count": 13,
   "metadata": {},
   "outputs": [],
   "source": [
    "transformed_CLNO = PT.fit_transform(train_inputs[['CLNO']])"
   ]
  },
  {
   "cell_type": "code",
   "execution_count": 14,
   "metadata": {},
   "outputs": [
    {
     "data": {
      "text/plain": [
       "array([[<AxesSubplot: title={'center': '0'}>]], dtype=object)"
      ]
     },
     "execution_count": 14,
     "metadata": {},
     "output_type": "execute_result"
    },
    {
     "data": {
      "image/png": "[encoded data removed]",
      "text/plain": [
       "<Figure size 640x480 with 1 Axes>"
      ]
     },
     "metadata": {},
     "output_type": "display_data"
    }
   ],
   "source": [
    "pd.DataFrame(transformed_CLNO).hist()"
   ]
  },
  {
   "attachments": {},
   "cell_type": "markdown",
   "metadata": {},
   "source": [
    "NOTE1: We didn't make the transformed variable as part of the input variables yet. To do that, we will use the pipeline.\n",
    "\n",
    "NOTE2: We don't need to create a function (like before). This transformer already has fit() and transform(). So, we can use this in the pipeline."
   ]
  },
  {
   "attachments": {},
   "cell_type": "markdown",
   "metadata": {},
   "source": [
    "##  Identify the numeric, binary, and categorical columns"
   ]
  },
  {
   "cell_type": "code",
   "execution_count": 16,
   "metadata": {},
   "outputs": [],
   "source": [
    "# Identify the numerical columns\n",
    "numeric_columns = train_inputs.select_dtypes(include=[np.number]).columns.to_list()\n",
    "\n",
    "# Identify the categorical columns\n",
    "categorical_columns = train_inputs.select_dtypes('object').columns.to_list()"
   ]
  },
  {
   "cell_type": "code",
   "execution_count": 19,
   "metadata": {},
   "outputs": [],
   "source": [
    "# Identify the binary columns so we can pass them through without transforming\n",
    "binary_columns = []"
   ]
  },
  {
   "cell_type": "code",
   "execution_count": 20,
   "metadata": {},
   "outputs": [],
   "source": [
    "# Be careful: numerical columns already includes the binary columns,\n",
    "# So, we need to remove the binary columns from numerical columns.\n",
    "\n",
    "for col in binary_columns:\n",
    "    numeric_columns.remove(col)"
   ]
  },
  {
   "cell_type": "code",
   "execution_count": 21,
   "metadata": {},
   "outputs": [
    {
     "data": {
      "text/plain": [
       "[]"
      ]
     },
     "execution_count": 21,
     "metadata": {},
     "output_type": "execute_result"
    }
   ],
   "source": [
    "binary_columns"
   ]
  },
  {
   "cell_type": "code",
   "execution_count": 17,
   "metadata": {},
   "outputs": [
    {
     "data": {
      "text/plain": [
       "['LOAN',\n",
       " 'MORTDUE',\n",
       " 'VALUE',\n",
       " 'YOJ',\n",
       " 'DEROG',\n",
       " 'DELINQ',\n",
       " 'CLAGE',\n",
       " 'NINQ',\n",
       " 'CLNO',\n",
       " 'DEBTINC']"
      ]
     },
     "execution_count": 17,
     "metadata": {},
     "output_type": "execute_result"
    }
   ],
   "source": [
    "numeric_columns"
   ]
  },
  {
   "cell_type": "code",
   "execution_count": 22,
   "metadata": {},
   "outputs": [
    {
     "data": {
      "text/plain": [
       "['REASON', 'JOB']"
      ]
     },
     "execution_count": 22,
     "metadata": {},
     "output_type": "execute_result"
    }
   ],
   "source": [
    "categorical_columns"
   ]
  },
  {
   "cell_type": "code",
   "execution_count": 23,
   "metadata": {},
   "outputs": [],
   "source": [
    "feat_eng_columns = ['CLNO']"
   ]
  },
  {
   "attachments": {},
   "cell_type": "markdown",
   "metadata": {},
   "source": [
    "# Pipeline"
   ]
  },
  {
   "cell_type": "code",
   "execution_count": 24,
   "metadata": {},
   "outputs": [],
   "source": [
    "numeric_transformer = Pipeline(steps=[\n",
    "                ('imputer', SimpleImputer(strategy='median')),\n",
    "                ('scaler', StandardScaler())])"
   ]
  },
  {
   "cell_type": "code",
   "execution_count": 25,
   "metadata": {},
   "outputs": [],
   "source": [
    "categorical_transformer = Pipeline(steps=[\n",
    "    ('imputer', SimpleImputer(strategy='constant', fill_value='unknown')),\n",
    "    ('onehot', OneHotEncoder(handle_unknown='ignore'))])"
   ]
  },
  {
   "cell_type": "code",
   "execution_count": 26,
   "metadata": {},
   "outputs": [],
   "source": [
    "binary_transformer = Pipeline(steps=[\n",
    "    ('imputer', SimpleImputer(strategy='most_frequent'))])"
   ]
  },
  {
   "cell_type": "code",
   "execution_count": 27,
   "metadata": {},
   "outputs": [],
   "source": [
    "# Create a pipeline for the transformed column here\n",
    "my_new_column = Pipeline(steps=[\n",
    "                ('imputer', SimpleImputer(strategy='median')),\n",
    "                ('powertransformer', PowerTransformer(method = 'yeo-johnson', standardize=True))])\n",
    "\n"
   ]
  },
  {
   "cell_type": "code",
   "execution_count": 28,
   "metadata": {},
   "outputs": [],
   "source": [
    "preprocessor = ColumnTransformer([\n",
    "        ('num', numeric_transformer, numeric_columns),\n",
    "        ('cat', categorical_transformer, categorical_columns),\n",
    "        ('binary', binary_transformer, binary_columns),\n",
    "        ('trans', my_new_column, feat_eng_columns)],   \n",
    "        remainder='passthrough')\n",
    "\n",
    "#passtrough is an optional step. You don't have to use it."
   ]
  },
  {
   "attachments": {},
   "cell_type": "markdown",
   "metadata": {},
   "source": [
    "# Transform: fit_transform() for TRAIN"
   ]
  },
  {
   "cell_type": "code",
   "execution_count": 29,
   "metadata": {},
   "outputs": [
    {
     "data": {
      "text/plain": [
       "array([[-0.31412013, -1.30301181, -0.86148829, ...,  0.        ,\n",
       "         0.        , -0.10059165],\n",
       "       [ 0.45733454,  0.7398414 ,  0.58636192, ...,  0.        ,\n",
       "         0.        , -0.10059165],\n",
       "       [-1.10330939,  0.2001631 ,  0.18146318, ...,  0.        ,\n",
       "         0.        , -0.62092761],\n",
       "       ...,\n",
       "       [-0.21657988, -0.83000156, -0.82081329, ...,  0.        ,\n",
       "         0.        , -1.08586557],\n",
       "       [-0.46486414,  1.79196675,  1.36974799, ...,  0.        ,\n",
       "         0.        ,  2.83038314],\n",
       "       [-0.31412013, -0.08740643, -0.21782887, ...,  0.        ,\n",
       "         0.        ,  0.28139347]])"
      ]
     },
     "execution_count": 29,
     "metadata": {},
     "output_type": "execute_result"
    }
   ],
   "source": [
    "#Fit and transform the train data\n",
    "train_x = preprocessor.fit_transform(train_inputs)\n",
    "\n",
    "train_x"
   ]
  },
  {
   "cell_type": "code",
   "execution_count": 30,
   "metadata": {},
   "outputs": [
    {
     "data": {
      "text/plain": [
       "(1750, 21)"
      ]
     },
     "execution_count": 30,
     "metadata": {},
     "output_type": "execute_result"
    }
   ],
   "source": [
    "train_x.shape"
   ]
  },
  {
   "attachments": {},
   "cell_type": "markdown",
   "metadata": {},
   "source": [
    "# Tranform: transform() for TEST"
   ]
  },
  {
   "cell_type": "code",
   "execution_count": 31,
   "metadata": {},
   "outputs": [
    {
     "data": {
      "text/plain": [
       "array([[ 0.06717356,  0.36706438,  0.32127798, ...,  0.        ,\n",
       "         0.        , -0.10059165],\n",
       "       [ 0.32432512,  0.57631513,  0.42769944, ...,  1.        ,\n",
       "         0.        ,  0.64034882],\n",
       "       [-0.33185472,  0.41209537,  0.12227549, ...,  0.        ,\n",
       "         0.        ,  0.37309001],\n",
       "       ...,\n",
       "       [-0.8993616 , -0.51071616, -0.32326299, ...,  0.        ,\n",
       "         0.        , -0.5122472 ],\n",
       "       [-0.5446698 , -0.82706576, -0.8366813 , ...,  0.        ,\n",
       "         0.        , -1.08586557],\n",
       "       [-0.5446698 , -0.06422056, -0.11380525, ...,  0.        ,\n",
       "         0.        , -0.5122472 ]])"
      ]
     },
     "execution_count": 31,
     "metadata": {},
     "output_type": "execute_result"
    }
   ],
   "source": [
    "# Transform the test data\n",
    "test_x = preprocessor.transform(test_inputs)\n",
    "\n",
    "test_x"
   ]
  },
  {
   "cell_type": "code",
   "execution_count": 32,
   "metadata": {},
   "outputs": [
    {
     "data": {
      "text/plain": [
       "(750, 21)"
      ]
     },
     "execution_count": 32,
     "metadata": {},
     "output_type": "execute_result"
    }
   ],
   "source": [
    "test_x.shape"
   ]
  },
  {
   "attachments": {},
   "cell_type": "markdown",
   "metadata": {},
   "source": [
    "# Calculate the Baseline"
   ]
  },
  {
   "cell_type": "code",
   "execution_count": 33,
   "metadata": {},
   "outputs": [
    {
     "data": {
      "text/plain": [
       "DummyClassifier(strategy='most_frequent')"
      ]
     },
     "execution_count": 33,
     "metadata": {},
     "output_type": "execute_result"
    }
   ],
   "source": [
    "from sklearn.dummy import DummyClassifier\n",
    "\n",
    "dummy_clf = DummyClassifier(strategy=\"most_frequent\")\n",
    "\n",
    "dummy_clf.fit(train_x, train_target)"
   ]
  },
  {
   "cell_type": "code",
   "execution_count": 34,
   "metadata": {},
   "outputs": [],
   "source": [
    "from sklearn.metrics import accuracy_score"
   ]
  },
  {
   "cell_type": "code",
   "execution_count": 35,
   "metadata": {},
   "outputs": [
    {
     "name": "stdout",
     "output_type": "stream",
     "text": [
      "Baseline Train Accuracy: 0.6034285714285714\n"
     ]
    }
   ],
   "source": [
    "#Baseline Train Accuracy\n",
    "dummy_train_pred = dummy_clf.predict(train_x)\n",
    "\n",
    "baseline_train_acc = accuracy_score(train_target, dummy_train_pred)\n",
    "\n",
    "print('Baseline Train Accuracy: {}' .format(baseline_train_acc))"
   ]
  },
  {
   "cell_type": "code",
   "execution_count": 37,
   "metadata": {},
   "outputs": [
    {
     "name": "stdout",
     "output_type": "stream",
     "text": [
      "Baseline Test Accuracy: 0.5773333333333334\n"
     ]
    }
   ],
   "source": [
    "#Baseline Test Accuracy\n",
    "dummy_test_pred = dummy_clf.predict(test_x)\n",
    "\n",
    "baseline_test_acc = accuracy_score(test_target, dummy_test_pred)\n",
    "\n",
    "print('Baseline Test Accuracy: {}' .format(baseline_test_acc))"
   ]
  },
  {
   "attachments": {},
   "cell_type": "markdown",
   "metadata": {},
   "source": [
    "# Train a shallow (one-layer) Keras model"
   ]
  },
  {
   "cell_type": "code",
   "execution_count": 38,
   "metadata": {},
   "outputs": [
    {
     "name": "stderr",
     "output_type": "stream",
     "text": [
      "2023-01-29 09:21:12.028567: I tensorflow/core/platform/cpu_feature_guard.cc:193] This TensorFlow binary is optimized with oneAPI Deep Neural Network Library (oneDNN) to use the following CPU instructions in performance-critical operations:  SSE4.1 SSE4.2 AVX AVX2 FMA\n",
      "To enable them in other operations, rebuild TensorFlow with the appropriate compiler flags.\n"
     ]
    }
   ],
   "source": [
    "import tensorflow as tf\n",
    "from tensorflow import keras\n",
    "\n",
    "# fix random seed for reproducibility\n",
    "np.random.seed(42)\n",
    "tf.random.set_seed(42)"
   ]
  },
  {
   "cell_type": "code",
   "execution_count": 39,
   "metadata": {},
   "outputs": [
    {
     "data": {
      "text/plain": [
       "(1750, 21)"
      ]
     },
     "execution_count": 39,
     "metadata": {},
     "output_type": "execute_result"
    }
   ],
   "source": [
    "#What is your input shape?\n",
    "#(meaning: how many neurons should be in the input layer?)\n",
    "\n",
    "train_x.shape"
   ]
  },
  {
   "cell_type": "code",
   "execution_count": 55,
   "metadata": {},
   "outputs": [],
   "source": [
    "#Define the model: for multi-class\n",
    "\n",
    "model = keras.models.Sequential()\n",
    "model.add(keras.layers.Input(shape=21))\n",
    "model.add(keras.layers.Dense(100, activation='relu'))\n",
    "model.add(keras.layers.Dense(1, activation='sigmoid'))\n",
    "\n",
    "#final layer: there has to be 4 nodes with softmax (because we have 4 categories)"
   ]
  },
  {
   "cell_type": "code",
   "execution_count": 56,
   "metadata": {},
   "outputs": [],
   "source": [
    "# Compile model\n",
    "\n",
    "#Optimizer:\n",
    "adam = keras.optimizers.Adam(learning_rate=0.05)\n",
    "\n",
    "model.compile(loss='binary_crossentropy', optimizer=adam, metrics=['accuracy'])"
   ]
  },
  {
   "cell_type": "code",
   "execution_count": 60,
   "metadata": {},
   "outputs": [
    {
     "name": "stdout",
     "output_type": "stream",
     "text": [
      "Epoch 1/60\n",
      "35/35 [==============================] - 0s 5ms/step - loss: 0.0086 - accuracy: 0.9989 - val_loss: 2.5885 - val_accuracy: 0.8467\n",
      "Epoch 2/60\n",
      "35/35 [==============================] - 0s 4ms/step - loss: 0.0154 - accuracy: 0.9943 - val_loss: 2.6340 - val_accuracy: 0.8493\n",
      "Epoch 3/60\n",
      "35/35 [==============================] - 0s 4ms/step - loss: 0.0360 - accuracy: 0.9880 - val_loss: 2.7969 - val_accuracy: 0.8427\n",
      "Epoch 4/60\n",
      "35/35 [==============================] - 0s 5ms/step - loss: 0.4902 - accuracy: 0.9457 - val_loss: 2.5810 - val_accuracy: 0.8347\n",
      "Epoch 5/60\n",
      "35/35 [==============================] - 0s 3ms/step - loss: 0.6258 - accuracy: 0.9200 - val_loss: 2.8836 - val_accuracy: 0.8107\n",
      "Epoch 6/60\n",
      "35/35 [==============================] - 0s 5ms/step - loss: 1.0490 - accuracy: 0.8914 - val_loss: 3.1325 - val_accuracy: 0.7933\n",
      "Epoch 7/60\n",
      "35/35 [==============================] - 0s 3ms/step - loss: 0.6543 - accuracy: 0.9183 - val_loss: 2.9193 - val_accuracy: 0.7933\n",
      "Epoch 8/60\n",
      "35/35 [==============================] - 0s 4ms/step - loss: 0.3825 - accuracy: 0.9343 - val_loss: 2.5238 - val_accuracy: 0.8240\n",
      "Epoch 9/60\n",
      "35/35 [==============================] - 0s 2ms/step - loss: 0.2470 - accuracy: 0.9417 - val_loss: 2.6216 - val_accuracy: 0.8187\n",
      "Epoch 10/60\n",
      "35/35 [==============================] - 0s 2ms/step - loss: 0.1149 - accuracy: 0.9634 - val_loss: 2.3835 - val_accuracy: 0.8360\n",
      "Epoch 11/60\n",
      "35/35 [==============================] - 0s 3ms/step - loss: 0.0681 - accuracy: 0.9789 - val_loss: 2.2443 - val_accuracy: 0.8333\n",
      "Epoch 12/60\n",
      "35/35 [==============================] - 0s 2ms/step - loss: 0.0459 - accuracy: 0.9886 - val_loss: 2.2787 - val_accuracy: 0.8387\n",
      "Epoch 13/60\n",
      "35/35 [==============================] - 0s 2ms/step - loss: 0.0557 - accuracy: 0.9857 - val_loss: 2.1979 - val_accuracy: 0.8400\n",
      "Epoch 14/60\n",
      "35/35 [==============================] - 0s 3ms/step - loss: 0.0390 - accuracy: 0.9891 - val_loss: 2.2222 - val_accuracy: 0.8400\n",
      "Epoch 15/60\n",
      "35/35 [==============================] - 0s 3ms/step - loss: 0.0291 - accuracy: 0.9920 - val_loss: 2.2326 - val_accuracy: 0.8427\n",
      "Epoch 16/60\n",
      "35/35 [==============================] - 0s 2ms/step - loss: 0.0290 - accuracy: 0.9937 - val_loss: 2.3021 - val_accuracy: 0.8387\n",
      "Epoch 17/60\n",
      "35/35 [==============================] - 0s 3ms/step - loss: 0.0257 - accuracy: 0.9937 - val_loss: 2.2838 - val_accuracy: 0.8467\n",
      "Epoch 18/60\n",
      "35/35 [==============================] - 0s 2ms/step - loss: 0.0260 - accuracy: 0.9931 - val_loss: 2.2956 - val_accuracy: 0.8360\n",
      "Epoch 19/60\n",
      "35/35 [==============================] - 0s 3ms/step - loss: 0.0200 - accuracy: 0.9949 - val_loss: 2.2888 - val_accuracy: 0.8440\n",
      "Epoch 20/60\n",
      "35/35 [==============================] - 0s 3ms/step - loss: 0.0234 - accuracy: 0.9943 - val_loss: 2.3205 - val_accuracy: 0.8347\n",
      "Epoch 21/60\n",
      "35/35 [==============================] - 0s 3ms/step - loss: 0.0194 - accuracy: 0.9966 - val_loss: 2.3297 - val_accuracy: 0.8333\n",
      "Epoch 22/60\n",
      "35/35 [==============================] - 0s 3ms/step - loss: 0.0177 - accuracy: 0.9966 - val_loss: 2.3457 - val_accuracy: 0.8373\n",
      "Epoch 23/60\n",
      "35/35 [==============================] - 0s 3ms/step - loss: 0.0167 - accuracy: 0.9966 - val_loss: 2.3456 - val_accuracy: 0.8333\n",
      "Epoch 24/60\n",
      "35/35 [==============================] - 0s 2ms/step - loss: 0.0160 - accuracy: 0.9966 - val_loss: 2.3686 - val_accuracy: 0.8347\n",
      "Epoch 25/60\n",
      "35/35 [==============================] - 0s 4ms/step - loss: 0.0160 - accuracy: 0.9977 - val_loss: 2.4380 - val_accuracy: 0.8360\n",
      "Epoch 26/60\n",
      "35/35 [==============================] - 0s 3ms/step - loss: 0.0154 - accuracy: 0.9960 - val_loss: 2.4433 - val_accuracy: 0.8413\n",
      "Epoch 27/60\n",
      "35/35 [==============================] - 0s 3ms/step - loss: 0.0161 - accuracy: 0.9960 - val_loss: 2.4120 - val_accuracy: 0.8387\n",
      "Epoch 28/60\n",
      "35/35 [==============================] - 0s 3ms/step - loss: 0.0142 - accuracy: 0.9960 - val_loss: 2.3808 - val_accuracy: 0.8400\n",
      "Epoch 29/60\n",
      "35/35 [==============================] - 0s 3ms/step - loss: 0.0131 - accuracy: 0.9983 - val_loss: 2.4069 - val_accuracy: 0.8360\n",
      "Epoch 30/60\n",
      "35/35 [==============================] - 0s 2ms/step - loss: 0.0210 - accuracy: 0.9943 - val_loss: 2.5479 - val_accuracy: 0.8360\n",
      "Epoch 31/60\n",
      "35/35 [==============================] - 0s 4ms/step - loss: 0.0193 - accuracy: 0.9943 - val_loss: 2.4711 - val_accuracy: 0.8373\n",
      "Epoch 32/60\n",
      "35/35 [==============================] - 0s 3ms/step - loss: 0.0165 - accuracy: 0.9960 - val_loss: 2.4714 - val_accuracy: 0.8360\n",
      "Epoch 33/60\n",
      "35/35 [==============================] - 0s 3ms/step - loss: 0.0129 - accuracy: 0.9960 - val_loss: 2.5519 - val_accuracy: 0.8347\n",
      "Epoch 34/60\n",
      "35/35 [==============================] - 0s 3ms/step - loss: 0.0118 - accuracy: 0.9983 - val_loss: 2.5276 - val_accuracy: 0.8293\n",
      "Epoch 35/60\n",
      "35/35 [==============================] - 0s 3ms/step - loss: 0.0111 - accuracy: 0.9983 - val_loss: 2.5575 - val_accuracy: 0.8333\n",
      "Epoch 36/60\n",
      "35/35 [==============================] - 0s 4ms/step - loss: 0.0093 - accuracy: 0.9989 - val_loss: 2.5789 - val_accuracy: 0.8347\n",
      "Epoch 37/60\n",
      "35/35 [==============================] - 0s 3ms/step - loss: 0.0084 - accuracy: 0.9994 - val_loss: 2.6066 - val_accuracy: 0.8347\n",
      "Epoch 38/60\n",
      "35/35 [==============================] - 0s 3ms/step - loss: 0.0084 - accuracy: 0.9989 - val_loss: 2.6094 - val_accuracy: 0.8307\n",
      "Epoch 39/60\n",
      "35/35 [==============================] - 0s 4ms/step - loss: 0.0088 - accuracy: 0.9989 - val_loss: 2.6202 - val_accuracy: 0.8320\n",
      "Epoch 40/60\n",
      "35/35 [==============================] - 0s 5ms/step - loss: 0.0086 - accuracy: 0.9983 - val_loss: 2.6422 - val_accuracy: 0.8387\n",
      "Epoch 41/60\n",
      "35/35 [==============================] - 0s 3ms/step - loss: 0.0081 - accuracy: 0.9989 - val_loss: 2.6451 - val_accuracy: 0.8373\n",
      "Epoch 42/60\n",
      "35/35 [==============================] - 0s 3ms/step - loss: 0.0080 - accuracy: 0.9994 - val_loss: 2.6546 - val_accuracy: 0.8333\n",
      "Epoch 43/60\n",
      "35/35 [==============================] - 0s 4ms/step - loss: 0.0094 - accuracy: 0.9983 - val_loss: 2.6372 - val_accuracy: 0.8373\n",
      "Epoch 44/60\n",
      "35/35 [==============================] - 0s 3ms/step - loss: 0.0107 - accuracy: 0.9977 - val_loss: 2.6264 - val_accuracy: 0.8293\n",
      "Epoch 45/60\n",
      "35/35 [==============================] - 0s 3ms/step - loss: 0.0397 - accuracy: 0.9874 - val_loss: 2.8120 - val_accuracy: 0.8320\n",
      "Epoch 46/60\n",
      "35/35 [==============================] - 0s 3ms/step - loss: 0.0829 - accuracy: 0.9771 - val_loss: 3.1581 - val_accuracy: 0.8320\n",
      "Epoch 47/60\n",
      "35/35 [==============================] - 0s 3ms/step - loss: 0.2911 - accuracy: 0.9560 - val_loss: 3.0469 - val_accuracy: 0.8147\n",
      "Epoch 48/60\n",
      "35/35 [==============================] - 0s 4ms/step - loss: 0.3437 - accuracy: 0.9423 - val_loss: 3.4632 - val_accuracy: 0.8253\n",
      "Epoch 49/60\n",
      "35/35 [==============================] - 0s 3ms/step - loss: 0.4186 - accuracy: 0.9320 - val_loss: 3.1636 - val_accuracy: 0.8173\n",
      "Epoch 50/60\n",
      "35/35 [==============================] - 0s 4ms/step - loss: 0.3942 - accuracy: 0.9377 - val_loss: 2.6842 - val_accuracy: 0.8147\n",
      "Epoch 51/60\n",
      "35/35 [==============================] - 0s 3ms/step - loss: 0.2638 - accuracy: 0.9434 - val_loss: 2.9372 - val_accuracy: 0.8373\n",
      "Epoch 52/60\n",
      "35/35 [==============================] - 0s 2ms/step - loss: 0.1693 - accuracy: 0.9629 - val_loss: 2.6115 - val_accuracy: 0.8387\n",
      "Epoch 53/60\n",
      "35/35 [==============================] - 0s 4ms/step - loss: 0.1197 - accuracy: 0.9697 - val_loss: 2.6484 - val_accuracy: 0.8307\n",
      "Epoch 54/60\n",
      "35/35 [==============================] - 0s 3ms/step - loss: 0.0805 - accuracy: 0.9766 - val_loss: 2.6282 - val_accuracy: 0.8240\n",
      "Epoch 55/60\n",
      "35/35 [==============================] - 0s 4ms/step - loss: 0.0445 - accuracy: 0.9903 - val_loss: 2.5630 - val_accuracy: 0.8333\n",
      "Epoch 56/60\n",
      "35/35 [==============================] - 0s 3ms/step - loss: 0.0307 - accuracy: 0.9909 - val_loss: 2.5937 - val_accuracy: 0.8333\n",
      "Epoch 57/60\n",
      "35/35 [==============================] - 0s 2ms/step - loss: 0.0243 - accuracy: 0.9920 - val_loss: 2.5967 - val_accuracy: 0.8293\n",
      "Epoch 58/60\n",
      "35/35 [==============================] - 0s 3ms/step - loss: 0.0385 - accuracy: 0.9880 - val_loss: 2.6992 - val_accuracy: 0.8333\n",
      "Epoch 59/60\n",
      "35/35 [==============================] - 0s 3ms/step - loss: 0.0359 - accuracy: 0.9874 - val_loss: 2.7620 - val_accuracy: 0.8360\n",
      "Epoch 60/60\n",
      "35/35 [==============================] - 0s 2ms/step - loss: 0.0264 - accuracy: 0.9903 - val_loss: 2.8703 - val_accuracy: 0.8413\n"
     ]
    }
   ],
   "source": [
    "# Fit the model\n",
    "\n",
    "history = model.fit(train_x, train_target, \n",
    "                    validation_data=(test_x, test_target), \n",
    "                    epochs=60, batch_size=50)"
   ]
  },
  {
   "attachments": {},
   "cell_type": "markdown",
   "metadata": {},
   "source": [
    "# Train a deep (multi-layered) Keras model "
   ]
  },
  {
   "cell_type": "code",
   "execution_count": 61,
   "metadata": {},
   "outputs": [
    {
     "data": {
      "text/plain": [
       "[0.04200100526213646, 0.982285737991333]"
      ]
     },
     "execution_count": 61,
     "metadata": {},
     "output_type": "execute_result"
    }
   ],
   "source": [
    "# Train values\n",
    "\n",
    "train_scores = model.evaluate(train_x, train_target, verbose=0)\n",
    "\n",
    "train_scores\n",
    "\n",
    "# In results, first is loss, second is accuracy"
   ]
  },
  {
   "cell_type": "code",
   "execution_count": 62,
   "metadata": {},
   "outputs": [
    {
     "name": "stdout",
     "output_type": "stream",
     "text": [
      "Train loss: 0.04\n",
      "Train accuracy: 98.23%\n"
     ]
    }
   ],
   "source": [
    "# Print the values\n",
    "\n",
    "print(f\"Train {model.metrics_names[0]}: {train_scores[0]:.2f}\")\n",
    "\n",
    "print(f\"Train {model.metrics_names[1]}: {train_scores[1]*100:.2f}%\")"
   ]
  },
  {
   "cell_type": "code",
   "execution_count": 63,
   "metadata": {},
   "outputs": [
    {
     "data": {
      "text/plain": [
       "[2.8702609539031982, 0.8413333296775818]"
      ]
     },
     "execution_count": 63,
     "metadata": {},
     "output_type": "execute_result"
    }
   ],
   "source": [
    "# Test values\n",
    "\n",
    "test_scores = model.evaluate(test_x, test_target, verbose=0)\n",
    "\n",
    "test_scores\n",
    "\n",
    "# In results, first is loss, second is accuracy"
   ]
  },
  {
   "cell_type": "code",
   "execution_count": 64,
   "metadata": {},
   "outputs": [
    {
     "name": "stdout",
     "output_type": "stream",
     "text": [
      "Test loss: 2.87\n",
      "Test accuracy: 84.13%\n"
     ]
    }
   ],
   "source": [
    "# Print the values\n",
    "\n",
    "print(f\"Test {model.metrics_names[0]}: {test_scores[0]:.2f}\")\n",
    "\n",
    "print(f\"Test {model.metrics_names[1]}: {test_scores[1]*100:.2f}%\")"
   ]
  },
  {
   "attachments": {},
   "cell_type": "markdown",
   "metadata": {},
   "source": [
    "# Optional: try different activation functions, optimizers, or configurations (such as wide and deep) to build other models"
   ]
  },
  {
   "attachments": {},
   "cell_type": "markdown",
   "metadata": {},
   "source": [
    "## Deep Neural Network"
   ]
  },
  {
   "cell_type": "code",
   "execution_count": 65,
   "metadata": {},
   "outputs": [],
   "source": [
    "#Define the model: for multi-class\n",
    "\n",
    "model = keras.models.Sequential()\n",
    "\n",
    "model.add(keras.layers.Input(shape=21))\n",
    "model.add(keras.layers.Dense(11, activation='relu'))\n",
    "model.add(keras.layers.Dense(21, activation='relu'))\n",
    "model.add(keras.layers.Dense(11, activation='relu'))\n",
    "model.add(keras.layers.Dense(1, activation='sigmoid'))\n",
    "\n",
    "#final layer: there has to be 4 nodes with softmax (because we have 4 categories)"
   ]
  },
  {
   "cell_type": "code",
   "execution_count": 66,
   "metadata": {},
   "outputs": [],
   "source": [
    "# Compile model\n",
    "\n",
    "#Optimizer:\n",
    "adam = keras.optimizers.Adam(learning_rate=0.01)\n",
    "\n",
    "model.compile(loss='binary_crossentropy', optimizer=adam, metrics=['accuracy'])"
   ]
  },
  {
   "cell_type": "code",
   "execution_count": 70,
   "metadata": {},
   "outputs": [
    {
     "name": "stdout",
     "output_type": "stream",
     "text": [
      "Epoch 1/50\n",
      "35/35 [==============================] - 0s 6ms/step - loss: 0.2210 - accuracy: 0.9223 - val_loss: 1.0571 - val_accuracy: 0.7867\n",
      "Epoch 2/50\n",
      "35/35 [==============================] - 0s 3ms/step - loss: 0.5385 - accuracy: 0.8377 - val_loss: 0.8853 - val_accuracy: 0.6613\n",
      "Epoch 3/50\n",
      "35/35 [==============================] - 0s 3ms/step - loss: 0.3971 - accuracy: 0.8269 - val_loss: 0.6996 - val_accuracy: 0.7800\n",
      "Epoch 4/50\n",
      "35/35 [==============================] - 0s 4ms/step - loss: 0.2765 - accuracy: 0.8840 - val_loss: 0.8260 - val_accuracy: 0.8067\n",
      "Epoch 5/50\n",
      "35/35 [==============================] - 0s 4ms/step - loss: 0.2393 - accuracy: 0.9063 - val_loss: 0.7153 - val_accuracy: 0.8160\n",
      "Epoch 6/50\n",
      "35/35 [==============================] - 0s 3ms/step - loss: 0.2400 - accuracy: 0.9046 - val_loss: 0.7231 - val_accuracy: 0.8053\n",
      "Epoch 7/50\n",
      "35/35 [==============================] - 0s 3ms/step - loss: 0.2406 - accuracy: 0.9074 - val_loss: 0.7233 - val_accuracy: 0.8147\n",
      "Epoch 8/50\n",
      "35/35 [==============================] - 0s 4ms/step - loss: 0.2174 - accuracy: 0.9149 - val_loss: 0.6863 - val_accuracy: 0.8267\n",
      "Epoch 9/50\n",
      "35/35 [==============================] - 0s 3ms/step - loss: 0.1883 - accuracy: 0.9234 - val_loss: 0.6918 - val_accuracy: 0.8240\n",
      "Epoch 10/50\n",
      "35/35 [==============================] - 0s 5ms/step - loss: 0.1620 - accuracy: 0.9360 - val_loss: 0.7379 - val_accuracy: 0.8360\n",
      "Epoch 11/50\n",
      "35/35 [==============================] - 0s 4ms/step - loss: 0.1612 - accuracy: 0.9303 - val_loss: 0.7427 - val_accuracy: 0.8227\n",
      "Epoch 12/50\n",
      "35/35 [==============================] - 0s 4ms/step - loss: 0.1533 - accuracy: 0.9434 - val_loss: 0.7669 - val_accuracy: 0.8280\n",
      "Epoch 13/50\n",
      "35/35 [==============================] - 0s 3ms/step - loss: 0.1431 - accuracy: 0.9434 - val_loss: 0.7397 - val_accuracy: 0.8307\n",
      "Epoch 14/50\n",
      "35/35 [==============================] - 0s 3ms/step - loss: 0.1420 - accuracy: 0.9389 - val_loss: 0.8231 - val_accuracy: 0.8267\n",
      "Epoch 15/50\n",
      "35/35 [==============================] - 0s 6ms/step - loss: 0.1459 - accuracy: 0.9497 - val_loss: 0.7722 - val_accuracy: 0.8200\n",
      "Epoch 16/50\n",
      "35/35 [==============================] - 0s 3ms/step - loss: 0.1728 - accuracy: 0.9377 - val_loss: 0.8684 - val_accuracy: 0.8173\n",
      "Epoch 17/50\n",
      "35/35 [==============================] - 0s 3ms/step - loss: 0.2058 - accuracy: 0.9229 - val_loss: 0.8260 - val_accuracy: 0.8000\n",
      "Epoch 18/50\n",
      "35/35 [==============================] - 0s 3ms/step - loss: 0.2306 - accuracy: 0.9143 - val_loss: 0.7892 - val_accuracy: 0.8067\n",
      "Epoch 19/50\n",
      "35/35 [==============================] - 0s 3ms/step - loss: 0.1888 - accuracy: 0.9309 - val_loss: 0.7558 - val_accuracy: 0.8173\n",
      "Epoch 20/50\n",
      "35/35 [==============================] - 0s 5ms/step - loss: 0.1431 - accuracy: 0.9440 - val_loss: 0.8155 - val_accuracy: 0.8240\n",
      "Epoch 21/50\n",
      "35/35 [==============================] - 0s 3ms/step - loss: 0.1444 - accuracy: 0.9474 - val_loss: 0.8183 - val_accuracy: 0.8147\n",
      "Epoch 22/50\n",
      "35/35 [==============================] - 0s 4ms/step - loss: 0.1338 - accuracy: 0.9520 - val_loss: 0.7407 - val_accuracy: 0.8213\n",
      "Epoch 23/50\n",
      "35/35 [==============================] - 0s 3ms/step - loss: 0.1222 - accuracy: 0.9549 - val_loss: 0.7645 - val_accuracy: 0.8320\n",
      "Epoch 24/50\n",
      "35/35 [==============================] - 0s 4ms/step - loss: 0.1213 - accuracy: 0.9589 - val_loss: 0.8301 - val_accuracy: 0.8200\n",
      "Epoch 25/50\n",
      "35/35 [==============================] - 0s 3ms/step - loss: 0.1276 - accuracy: 0.9520 - val_loss: 0.8107 - val_accuracy: 0.8293\n",
      "Epoch 26/50\n",
      "35/35 [==============================] - 0s 3ms/step - loss: 0.1192 - accuracy: 0.9600 - val_loss: 0.8695 - val_accuracy: 0.8200\n",
      "Epoch 27/50\n",
      "35/35 [==============================] - 0s 4ms/step - loss: 0.1250 - accuracy: 0.9543 - val_loss: 0.9254 - val_accuracy: 0.8240\n",
      "Epoch 28/50\n",
      "35/35 [==============================] - 0s 3ms/step - loss: 0.1661 - accuracy: 0.9320 - val_loss: 1.0022 - val_accuracy: 0.8040\n",
      "Epoch 29/50\n",
      "35/35 [==============================] - 0s 4ms/step - loss: 0.2406 - accuracy: 0.9046 - val_loss: 0.8391 - val_accuracy: 0.8093\n",
      "Epoch 30/50\n",
      "35/35 [==============================] - 0s 3ms/step - loss: 0.1923 - accuracy: 0.9240 - val_loss: 0.8505 - val_accuracy: 0.8133\n",
      "Epoch 31/50\n",
      "35/35 [==============================] - 0s 3ms/step - loss: 0.1794 - accuracy: 0.9314 - val_loss: 0.8278 - val_accuracy: 0.8200\n",
      "Epoch 32/50\n",
      "35/35 [==============================] - 0s 3ms/step - loss: 0.1966 - accuracy: 0.9229 - val_loss: 0.8601 - val_accuracy: 0.8080\n",
      "Epoch 33/50\n",
      "35/35 [==============================] - 0s 2ms/step - loss: 0.1872 - accuracy: 0.9246 - val_loss: 0.9441 - val_accuracy: 0.8107\n",
      "Epoch 34/50\n",
      "35/35 [==============================] - 0s 4ms/step - loss: 0.1668 - accuracy: 0.9400 - val_loss: 0.8236 - val_accuracy: 0.8173\n",
      "Epoch 35/50\n",
      "35/35 [==============================] - 0s 3ms/step - loss: 0.1332 - accuracy: 0.9451 - val_loss: 0.8733 - val_accuracy: 0.8200\n",
      "Epoch 36/50\n",
      "35/35 [==============================] - 0s 3ms/step - loss: 0.1354 - accuracy: 0.9514 - val_loss: 0.8529 - val_accuracy: 0.8187\n",
      "Epoch 37/50\n",
      "35/35 [==============================] - 0s 3ms/step - loss: 0.1339 - accuracy: 0.9503 - val_loss: 0.8183 - val_accuracy: 0.8200\n",
      "Epoch 38/50\n",
      "35/35 [==============================] - 0s 3ms/step - loss: 0.1227 - accuracy: 0.9577 - val_loss: 0.8346 - val_accuracy: 0.8067\n",
      "Epoch 39/50\n",
      "35/35 [==============================] - 0s 3ms/step - loss: 0.1299 - accuracy: 0.9509 - val_loss: 0.9166 - val_accuracy: 0.8147\n",
      "Epoch 40/50\n",
      "35/35 [==============================] - 0s 3ms/step - loss: 0.1210 - accuracy: 0.9526 - val_loss: 0.9678 - val_accuracy: 0.8200\n",
      "Epoch 41/50\n",
      "35/35 [==============================] - 0s 3ms/step - loss: 0.1293 - accuracy: 0.9509 - val_loss: 0.9773 - val_accuracy: 0.8133\n",
      "Epoch 42/50\n",
      "35/35 [==============================] - 0s 4ms/step - loss: 0.1104 - accuracy: 0.9600 - val_loss: 0.9459 - val_accuracy: 0.8133\n",
      "Epoch 43/50\n",
      "35/35 [==============================] - 0s 3ms/step - loss: 0.1165 - accuracy: 0.9531 - val_loss: 0.9314 - val_accuracy: 0.8267\n",
      "Epoch 44/50\n",
      "35/35 [==============================] - 0s 3ms/step - loss: 0.1211 - accuracy: 0.9543 - val_loss: 0.9943 - val_accuracy: 0.8333\n",
      "Epoch 45/50\n",
      "35/35 [==============================] - 0s 3ms/step - loss: 0.1014 - accuracy: 0.9640 - val_loss: 0.9939 - val_accuracy: 0.8173\n",
      "Epoch 46/50\n",
      "35/35 [==============================] - 0s 3ms/step - loss: 0.0956 - accuracy: 0.9634 - val_loss: 1.0236 - val_accuracy: 0.8173\n",
      "Epoch 47/50\n",
      "35/35 [==============================] - 0s 3ms/step - loss: 0.1004 - accuracy: 0.9634 - val_loss: 1.0937 - val_accuracy: 0.8093\n",
      "Epoch 48/50\n",
      "35/35 [==============================] - 0s 3ms/step - loss: 0.1010 - accuracy: 0.9623 - val_loss: 0.9811 - val_accuracy: 0.8200\n",
      "Epoch 49/50\n",
      "35/35 [==============================] - 0s 2ms/step - loss: 0.1041 - accuracy: 0.9617 - val_loss: 1.0057 - val_accuracy: 0.8160\n",
      "Epoch 50/50\n",
      "35/35 [==============================] - 0s 3ms/step - loss: 0.1178 - accuracy: 0.9509 - val_loss: 1.0654 - val_accuracy: 0.8200\n"
     ]
    }
   ],
   "source": [
    "# Fit the model\n",
    "\n",
    "history = model.fit(train_x, train_target, \n",
    "                    validation_data=(test_x, test_target), \n",
    "                    epochs=50, batch_size=50)"
   ]
  },
  {
   "cell_type": "code",
   "execution_count": 71,
   "metadata": {},
   "outputs": [
    {
     "data": {
      "text/plain": [
       "[0.12252926081418991, 0.9554286003112793]"
      ]
     },
     "execution_count": 71,
     "metadata": {},
     "output_type": "execute_result"
    }
   ],
   "source": [
    "# Train values\n",
    "\n",
    "train_scores = model.evaluate(train_x, train_target, verbose=0)\n",
    "\n",
    "train_scores\n",
    "\n",
    "# In results, first is loss, second is accuracy"
   ]
  },
  {
   "cell_type": "code",
   "execution_count": 72,
   "metadata": {},
   "outputs": [
    {
     "name": "stdout",
     "output_type": "stream",
     "text": [
      "Train loss: 0.12\n",
      "Train accuracy: 95.54%\n"
     ]
    }
   ],
   "source": [
    "# Print the values\n",
    "\n",
    "print(f\"Train {model.metrics_names[0]}: {train_scores[0]:.2f}\")\n",
    "\n",
    "print(f\"Train {model.metrics_names[1]}: {train_scores[1]*100:.2f}%\")"
   ]
  },
  {
   "cell_type": "code",
   "execution_count": 73,
   "metadata": {},
   "outputs": [
    {
     "data": {
      "text/plain": [
       "[1.0654255151748657, 0.8199999928474426]"
      ]
     },
     "execution_count": 73,
     "metadata": {},
     "output_type": "execute_result"
    }
   ],
   "source": [
    "# Test values\n",
    "\n",
    "test_scores = model.evaluate(test_x, test_target, verbose=0)\n",
    "\n",
    "test_scores\n",
    "\n",
    "# In results, first is loss, second is accuracy"
   ]
  },
  {
   "cell_type": "code",
   "execution_count": 74,
   "metadata": {},
   "outputs": [
    {
     "name": "stdout",
     "output_type": "stream",
     "text": [
      "Test loss: 1.07\n",
      "Test accuracy: 82.00%\n"
     ]
    }
   ],
   "source": [
    "# Print the values\n",
    "\n",
    "print(f\"Test {model.metrics_names[0]}: {test_scores[0]:.2f}\")\n",
    "\n",
    "print(f\"Test {model.metrics_names[1]}: {test_scores[1]*100:.2f}%\")"
   ]
  }
 ],
 "metadata": {
  "kernelspec": {
   "display_name": "base",
   "language": "python",
   "name": "python3"
  },
  "language_info": {
   "codemirror_mode": {
    "name": "ipython",
    "version": 3
   },
   "file_extension": ".py",
   "mimetype": "text/x-python",
   "name": "python",
   "nbconvert_exporter": "python",
   "pygments_lexer": "ipython3",
   "version": "3.9.12"
  },
  "nav_menu": {
   "height": "279px",
   "width": "309px"
  },
  "toc": {
   "base_numbering": 1,
   "nav_menu": {},
   "number_sections": false,
   "sideBar": true,
   "skip_h1_title": false,
   "title_cell": "Table of Contents",
   "title_sidebar": "Contents",
   "toc_cell": false,
   "toc_position": {},
   "toc_section_display": "block",
   "toc_window_display": true
  },
  "varInspector": {
   "cols": {
    "lenName": 16,
    "lenType": 16,
    "lenVar": 40
   },
   "kernels_config": {
    "python": {
     "delete_cmd_postfix": "",
     "delete_cmd_prefix": "del ",
     "library": "var_list.py",
     "varRefreshCmd": "print(var_dic_list())"
    },
    "r": {
     "delete_cmd_postfix": ") ",
     "delete_cmd_prefix": "rm(",
     "library": "var_list.r",
     "varRefreshCmd": "cat(var_dic_list()) "
    }
   },
   "types_to_exclude": [
    "module",
    "function",
    "builtin_function_or_method",
    "instance",
    "_Feature"
   ],
   "window_display": false
  },
  "vscode": {
   "interpreter": {
    "hash": "6e8d503ca3497b2311276643aea34fa4462df8f5c0c9e65d3521006dbd5b3aa2"
   }
  }
 },
 "nbformat": 4,
 "nbformat_minor": 1
}
